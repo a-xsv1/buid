{
 "cells": [
  {
   "cell_type": "markdown",
   "metadata": {
    "id": "bHn9eEQGy8oM"
   },
   "source": [
    "# OCR pipeline with Keras-OCR library\n"
   ]
  },
  {
   "cell_type": "markdown",
   "metadata": {},
   "source": [
    "### What is Keras-ocr?"
   ]
  },
  {
   "cell_type": "markdown",
   "metadata": {},
   "source": [
    "Keras-ocr is a python package for performing OCR. It implements a Text Detection -> Text Recognition pipeline where Text Detection is done using the CRAFT algorithm published in CVPR-2019 and Text Recognition is done using the CRNN algorithm which was published in TPAMI-2017.\n",
    "\n",
    "Moreover, the library has quite a few utility functions which help in OCR related tasks. For example, it has functionality for generating bounding boxes, aligning them, annotating images with bounding boxes and text etc.\n",
    "\n",
    "We had discussed the Text Detection process using CRAFT in the previous notebook. In this notebook, we will discuss the various methods available in keras-ocr to perform Text Recognition."
   ]
  },
  {
   "cell_type": "code",
   "execution_count": 3,
   "metadata": {
    "id": "Mj_lk8MxUIYr"
   },
   "outputs": [],
   "source": [
    "import numpy\n",
    "import pandas"
   ]
  },
  {
   "cell_type": "markdown",
   "metadata": {
    "id": "I-R1uhjZzk3y"
   },
   "source": [
    "# Install Keras-OCR package"
   ]
  },
  {
   "cell_type": "code",
   "execution_count": 4,
   "metadata": {
    "id": "KL1EWykSUKHx"
   },
   "outputs": [],
   "source": [
    "!pip install keras-ocr > /dev/null"
   ]
  },
  {
   "cell_type": "markdown",
   "metadata": {
    "id": "vXWek_9gzuF8"
   },
   "source": [
    "# Import Libraries"
   ]
  },
  {
   "cell_type": "code",
   "execution_count": 55,
   "metadata": {
    "id": "IVbIbRMtZ5OP"
   },
   "outputs": [],
   "source": [
    "import keras_ocr\n",
    "import cv2\n",
    "import glob\n",
    "import matplotlib.pyplot as plt\n",
    "%matplotlib inline"
   ]
  },
  {
   "cell_type": "markdown",
   "metadata": {
    "id": "psTPcbjBzyHc"
   },
   "source": [
    "# Read Image"
   ]
  },
  {
   "cell_type": "code",
   "execution_count": 70,
   "metadata": {
    "id": "U2rJJhqZaEqW"
   },
   "outputs": [],
   "source": [
    "image = keras_ocr.tools.read(\"Tensorflow.png\")"
   ]
  },
  {
   "cell_type": "markdown",
   "metadata": {
    "id": "tEoFzcbqz55k"
   },
   "source": [
    "# Text Recognition using Keras OCR\n",
    "The library provides a simple interface for recognizing text.There are 3 options:\n",
    "\n",
    "1. pipeline for detecting and recognizing text.\n",
    "2. Recognize text from an image assuming a single text box is present in the image.\n",
    "3. Recognize text from an image with text bounding boxes for each text box obtained by first passing it through the text detector."
   ]
  },
  {
   "cell_type": "code",
   "execution_count": 71,
   "metadata": {
    "colab": {
     "base_uri": "https://localhost:8080/"
    },
    "id": "bDJrCbgqaIfV",
    "outputId": "3ab07c87-48a5-49a5-f689-516d7a57d50f"
   },
   "outputs": [
    {
     "name": "stdout",
     "output_type": "stream",
     "text": [
      "Looking for /root/.keras-ocr/craft_mlt_25k.h5\n",
      "Looking for /root/.keras-ocr/crnn_kurapan.h5\n"
     ]
    }
   ],
   "source": [
    "pipeline = keras_ocr.pipeline.Pipeline()"
   ]
  },
  {
   "cell_type": "markdown",
   "metadata": {
    "id": "cI032GuG0m9B"
   },
   "source": [
    "# Create a pipeline Object\n",
    "You simply create an instance of the pipeline class using the below method.\n",
    "\n",
    "It will download the text detection model ( CRAFT ) and the text recognition model ( CRNN ) if they are not already present."
   ]
  },
  {
   "cell_type": "code",
   "execution_count": 72,
   "metadata": {
    "id": "ktoFVw-qaL6F"
   },
   "outputs": [],
   "source": [
    "prediction_groups = pipeline.recognize([image])"
   ]
  },
  {
   "cell_type": "code",
   "execution_count": 73,
   "metadata": {
    "colab": {
     "base_uri": "https://localhost:8080/"
    },
    "id": "SM93_8UMaPnY",
    "outputId": "1b91ee50-11e2-4ac9-fa22-f57756db822d"
   },
   "outputs": [
    {
     "name": "stdout",
     "output_type": "stream",
     "text": [
      "[[('11', array([[516.7969 , 193.35938],\n",
      "       [677.34375, 193.35938],\n",
      "       [677.34375, 330.46875],\n",
      "       [516.7969 , 330.46875]], dtype=float32)), ('ensorflow', array([[250.65196, 424.1692 ],\n",
      "       [942.0742 , 422.43625],\n",
      "       [942.3341 , 526.12744],\n",
      "       [250.91182, 527.86035]], dtype=float32))]]\n"
     ]
    }
   ],
   "source": [
    "print(prediction_groups)"
   ]
  },
  {
   "cell_type": "code",
   "execution_count": 74,
   "metadata": {
    "id": "gVXQZkTxaR7G"
   },
   "outputs": [],
   "source": [
    "predictions = prediction_groups[0]"
   ]
  },
  {
   "cell_type": "code",
   "execution_count": 81,
   "metadata": {
    "colab": {
     "base_uri": "https://localhost:8080/"
    },
    "id": "sNMPPodxaXSW",
    "outputId": "be10418a-f103-4aae-c5a5-9339e852c218"
   },
   "outputs": [
    {
     "name": "stdout",
     "output_type": "stream",
     "text": [
      "('ensorflow', array([[250.65196, 424.1692 ],\n",
      "       [942.0742 , 422.43625],\n",
      "       [942.3341 , 526.12744],\n",
      "       [250.91182, 527.86035]], dtype=float32))\n"
     ]
    }
   ],
   "source": [
    "print(predictions[1])"
   ]
  },
  {
   "cell_type": "markdown",
   "metadata": {
    "id": "vsPhYG6J1dDj"
   },
   "source": [
    "# Display"
   ]
  },
  {
   "cell_type": "code",
   "execution_count": 77,
   "metadata": {
    "colab": {
     "base_uri": "https://localhost:8080/",
     "height": 376
    },
    "id": "WfAcXVTFaZWv",
    "outputId": "f6b11a9d-6557-4f8e-c1fb-0f83649cc661"
   },
   "outputs": [
    {
     "data": {
      "text/plain": [
       "<matplotlib.axes._subplots.AxesSubplot at 0x7f0f3a3bfb10>"
      ]
     },
     "execution_count": 77,
     "metadata": {},
     "output_type": "execute_result"
    },
    {
     "data": {
      "image/png": "[encoded data removed]",
      "text/plain": [
       "<Figure size 720x720 with 1 Axes>"
      ]
     },
     "metadata": {},
     "output_type": "display_data"
    }
   ],
   "source": [
    "fig,ax = plt.subplots(figsize = [10,10])\n",
    "keras_ocr.tools.drawAnnotations(image, predictions, ax=ax)"
   ]
  },
  {
   "cell_type": "markdown",
   "metadata": {
    "id": "OHo3oktb1uxA"
   },
   "source": [
    "# Recognizer"
   ]
  },
  {
   "cell_type": "code",
   "execution_count": 65,
   "metadata": {
    "colab": {
     "base_uri": "https://localhost:8080/"
    },
    "id": "GnujJG_MbSXY",
    "outputId": "d95282c7-7304-4099-9d11-c0a3423c544d"
   },
   "outputs": [
    {
     "name": "stdout",
     "output_type": "stream",
     "text": [
      "Looking for /root/.keras-ocr/craft_mlt_25k.h5\n",
      "Looking for /root/.keras-ocr/crnn_kurapan.h5\n"
     ]
    }
   ],
   "source": [
    "detector = keras_ocr.detection.Detector()\n",
    "recognizer = keras_ocr.recognition.Recognizer()"
   ]
  },
  {
   "cell_type": "code",
   "execution_count": 78,
   "metadata": {
    "id": "pfVb7_VObeW2"
   },
   "outputs": [],
   "source": [
    "image = keras_ocr.tools.read(\"Tensorflow.png\")\n",
    "detections = detector.detect([image])"
   ]
  },
  {
   "cell_type": "code",
   "execution_count": null,
   "metadata": {
    "id": "oBhuFTNUGAse"
   },
   "outputs": [],
   "source": []
  },
  {
   "cell_type": "code",
   "execution_count": 79,
   "metadata": {
    "id": "L8opuQhzabZN"
   },
   "outputs": [],
   "source": [
    "recognitions = recognizer.recognize_from_boxes([image],detections)"
   ]
  },
  {
   "cell_type": "code",
   "execution_count": 80,
   "metadata": {
    "colab": {
     "base_uri": "https://localhost:8080/"
    },
    "id": "UcTJWbbsbLfN",
    "outputId": "7c4c19fa-c785-4488-c572-af887774a357"
   },
   "outputs": [
    {
     "name": "stdout",
     "output_type": "stream",
     "text": [
      "[['11', 'tensorflow']]\n"
     ]
    }
   ],
   "source": [
    "print(recognitions)"
   ]
  }
 ],
 "metadata": {
  "colab": {
   "name": "OCR.ipynb",
   "provenance": []
  },
  "kernelspec": {
   "display_name": "Python 3",
   "language": "python",
   "name": "python3"
  },
  "language_info": {
   "codemirror_mode": {
    "name": "ipython",
    "version": 3
   },
   "file_extension": ".py",
   "mimetype": "text/x-python",
   "name": "python",
   "nbconvert_exporter": "python",
   "pygments_lexer": "ipython3",
   "version": "3.8.8"
  }
 },
 "nbformat": 4,
 "nbformat_minor": 1
}
