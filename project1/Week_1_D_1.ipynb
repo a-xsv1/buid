{
 "cells": [
  {
   "cell_type": "markdown",
   "id": "3fb83c15",
   "metadata": {},
   "source": [
    "## Why do we need a special library for math and DL?"
   ]
  },
  {
   "cell_type": "code",
   "execution_count": 1,
   "id": "196f9282",
   "metadata": {},
   "outputs": [
    {
     "data": {
      "text/plain": [
       "[[8, 25],\n",
       " [7, 22],\n",
       " [8, 47],\n",
       " [3, 2],\n",
       " [1, 27],\n",
       " [4, 39],\n",
       " [5, 25],\n",
       " [5, 6],\n",
       " [2, 30],\n",
       " [0, 27]]"
      ]
     },
     "execution_count": 1,
     "metadata": {},
     "output_type": "execute_result"
    }
   ],
   "source": [
    "# create random points\n",
    "from random import randint\n",
    "\n",
    "num_dims = 2\n",
    "num_points = 10\n",
    "x_range = (0, 10)\n",
    "y_range = (1, 50)\n",
    "points = [[randint(*x_range), randint(*y_range)] for _ in range(num_points)]\n",
    "points"
   ]
  },
  {
   "cell_type": "code",
   "execution_count": 2,
   "id": "68c1b220",
   "metadata": {},
   "outputs": [
    {
     "data": {
      "text/plain": [
       "array([[ 8, 25],\n",
       "       [ 7, 22],\n",
       "       [ 8, 47],\n",
       "       [ 3,  2],\n",
       "       [ 1, 27],\n",
       "       [ 4, 39],\n",
       "       [ 5, 25],\n",
       "       [ 5,  6],\n",
       "       [ 2, 30],\n",
       "       [ 0, 27]])"
      ]
     },
     "execution_count": 2,
     "metadata": {},
     "output_type": "execute_result"
    }
   ],
   "source": [
    "import numpy as np\n",
    "points = np.array(points)  # we are able to create numpy arrays from python lists\n",
    "points"
   ]
  },
  {
   "cell_type": "markdown",
   "id": "4e7121ef",
   "metadata": {},
   "source": [
    "## Lets start with One example"
   ]
  },
  {
   "cell_type": "code",
   "execution_count": 3,
   "id": "1f1fc841",
   "metadata": {},
   "outputs": [],
   "source": [
    "# Load libraries\n",
    "import numpy\n",
    "from matplotlib import pyplot\n",
    "from pandas import read_csv\n",
    "from pandas import set_option\n",
    "from pandas.plotting import scatter_matrix\n",
    "from sklearn.preprocessing import StandardScaler\n",
    "from sklearn.model_selection import train_test_split\n",
    "from sklearn.model_selection import KFold\n",
    "from sklearn.model_selection import cross_val_score\n",
    "from sklearn.model_selection import GridSearchCV\n",
    "from sklearn.metrics import classification_report\n",
    "from sklearn.metrics import confusion_matrix\n",
    "from sklearn.metrics import accuracy_score\n",
    "from sklearn.pipeline import Pipeline\n",
    "from sklearn.linear_model import LogisticRegression\n",
    "from sklearn.tree import DecisionTreeClassifier\n",
    "from sklearn.neighbors import KNeighborsClassifier\n",
    "from sklearn.discriminant_analysis import LinearDiscriminantAnalysis\n",
    "from sklearn.naive_bayes import GaussianNB\n",
    "from sklearn.svm import SVC\n",
    "from sklearn.ensemble import AdaBoostClassifier\n",
    "from sklearn.ensemble import GradientBoostingClassifier\n",
    "from sklearn.ensemble import RandomForestClassifier\n",
    "from sklearn.ensemble import ExtraTreesClassifier"
   ]
  },
  {
   "cell_type": "code",
   "execution_count": 8,
   "id": "45ac6632",
   "metadata": {},
   "outputs": [],
   "source": [
    "# Load dataset\n",
    "url = 'sonar.all-data.csv'\n",
    "dataset = read_csv(url, header=None)\n"
   ]
  },
  {
   "cell_type": "code",
   "execution_count": 9,
   "id": "9b234174",
   "metadata": {},
   "outputs": [
    {
     "name": "stdout",
     "output_type": "stream",
     "text": [
      "(208, 61)\n"
     ]
    }
   ],
   "source": [
    "# shape\n",
    "print(dataset.shape)"
   ]
  },
  {
   "cell_type": "code",
   "execution_count": 11,
   "id": "d8c4cff6",
   "metadata": {},
   "outputs": [
    {
     "name": "stdout",
     "output_type": "stream",
     "text": [
      "0     float64\n",
      "1     float64\n",
      "2     float64\n",
      "3     float64\n",
      "4     float64\n",
      "5     float64\n",
      "6     float64\n",
      "7     float64\n",
      "8     float64\n",
      "9     float64\n",
      "10    float64\n",
      "11    float64\n",
      "12    float64\n",
      "13    float64\n",
      "14    float64\n",
      "15    float64\n",
      "16    float64\n",
      "17    float64\n",
      "18    float64\n",
      "19    float64\n",
      "20    float64\n",
      "21    float64\n",
      "22    float64\n",
      "23    float64\n",
      "24    float64\n",
      "25    float64\n",
      "26    float64\n",
      "27    float64\n",
      "28    float64\n",
      "29    float64\n",
      "30    float64\n",
      "31    float64\n",
      "32    float64\n",
      "33    float64\n",
      "34    float64\n",
      "35    float64\n",
      "36    float64\n",
      "37    float64\n",
      "38    float64\n",
      "39    float64\n",
      "40    float64\n",
      "41    float64\n",
      "42    float64\n",
      "43    float64\n",
      "44    float64\n",
      "45    float64\n",
      "46    float64\n",
      "47    float64\n",
      "48    float64\n",
      "49    float64\n",
      "50    float64\n",
      "51    float64\n",
      "52    float64\n",
      "53    float64\n",
      "54    float64\n",
      "55    float64\n",
      "56    float64\n",
      "57    float64\n",
      "58    float64\n",
      "59    float64\n",
      "60     object\n",
      "dtype: object\n"
     ]
    }
   ],
   "source": [
    "# types\n",
    "set_option('display.max_rows', 500)\n",
    "print(dataset.dtypes)\n"
   ]
  },
  {
   "cell_type": "code",
   "execution_count": 12,
   "id": "7d67c6f9",
   "metadata": {},
   "outputs": [
    {
     "name": "stdout",
     "output_type": "stream",
     "text": [
      "        0       1       2       3       4       5       6       7       8       9   ...      51  \\\n",
      "0   0.0200  0.0371  0.0428  0.0207  0.0954  0.0986  0.1539  0.1601  0.3109  0.2111  ...  0.0027   \n",
      "1   0.0453  0.0523  0.0843  0.0689  0.1183  0.2583  0.2156  0.3481  0.3337  0.2872  ...  0.0084   \n",
      "2   0.0262  0.0582  0.1099  0.1083  0.0974  0.2280  0.2431  0.3771  0.5598  0.6194  ...  0.0232   \n",
      "3   0.0100  0.0171  0.0623  0.0205  0.0205  0.0368  0.1098  0.1276  0.0598  0.1264  ...  0.0121   \n",
      "4   0.0762  0.0666  0.0481  0.0394  0.0590  0.0649  0.1209  0.2467  0.3564  0.4459  ...  0.0031   \n",
      "5   0.0286  0.0453  0.0277  0.0174  0.0384  0.0990  0.1201  0.1833  0.2105  0.3039  ...  0.0045   \n",
      "6   0.0317  0.0956  0.1321  0.1408  0.1674  0.1710  0.0731  0.1401  0.2083  0.3513  ...  0.0201   \n",
      "7   0.0519  0.0548  0.0842  0.0319  0.1158  0.0922  0.1027  0.0613  0.1465  0.2838  ...  0.0081   \n",
      "8   0.0223  0.0375  0.0484  0.0475  0.0647  0.0591  0.0753  0.0098  0.0684  0.1487  ...  0.0145   \n",
      "9   0.0164  0.0173  0.0347  0.0070  0.0187  0.0671  0.1056  0.0697  0.0962  0.0251  ...  0.0090   \n",
      "10  0.0039  0.0063  0.0152  0.0336  0.0310  0.0284  0.0396  0.0272  0.0323  0.0452  ...  0.0062   \n",
      "11  0.0123  0.0309  0.0169  0.0313  0.0358  0.0102  0.0182  0.0579  0.1122  0.0835  ...  0.0133   \n",
      "12  0.0079  0.0086  0.0055  0.0250  0.0344  0.0546  0.0528  0.0958  0.1009  0.1240  ...  0.0176   \n",
      "13  0.0090  0.0062  0.0253  0.0489  0.1197  0.1589  0.1392  0.0987  0.0955  0.1895  ...  0.0059   \n",
      "14  0.0124  0.0433  0.0604  0.0449  0.0597  0.0355  0.0531  0.0343  0.1052  0.2120  ...  0.0083   \n",
      "15  0.0298  0.0615  0.0650  0.0921  0.1615  0.2294  0.2176  0.2033  0.1459  0.0852  ...  0.0031   \n",
      "16  0.0352  0.0116  0.0191  0.0469  0.0737  0.1185  0.1683  0.1541  0.1466  0.2912  ...  0.0346   \n",
      "17  0.0192  0.0607  0.0378  0.0774  0.1388  0.0809  0.0568  0.0219  0.1037  0.1186  ...  0.0331   \n",
      "18  0.0270  0.0092  0.0145  0.0278  0.0412  0.0757  0.1026  0.1138  0.0794  0.1520  ...  0.0084   \n",
      "19  0.0126  0.0149  0.0641  0.1732  0.2565  0.2559  0.2947  0.4110  0.4983  0.5920  ...  0.0092   \n",
      "\n",
      "        52      53      54      55      56      57      58      59  60  \n",
      "0   0.0065  0.0159  0.0072  0.0167  0.0180  0.0084  0.0090  0.0032   R  \n",
      "1   0.0089  0.0048  0.0094  0.0191  0.0140  0.0049  0.0052  0.0044   R  \n",
      "2   0.0166  0.0095  0.0180  0.0244  0.0316  0.0164  0.0095  0.0078   R  \n",
      "3   0.0036  0.0150  0.0085  0.0073  0.0050  0.0044  0.0040  0.0117   R  \n",
      "4   0.0054  0.0105  0.0110  0.0015  0.0072  0.0048  0.0107  0.0094   R  \n",
      "5   0.0014  0.0038  0.0013  0.0089  0.0057  0.0027  0.0051  0.0062   R  \n",
      "6   0.0248  0.0131  0.0070  0.0138  0.0092  0.0143  0.0036  0.0103   R  \n",
      "7   0.0120  0.0045  0.0121  0.0097  0.0085  0.0047  0.0048  0.0053   R  \n",
      "8   0.0128  0.0145  0.0058  0.0049  0.0065  0.0093  0.0059  0.0022   R  \n",
      "9   0.0223  0.0179  0.0084  0.0068  0.0032  0.0035  0.0056  0.0040   R  \n",
      "10  0.0120  0.0052  0.0056  0.0093  0.0042  0.0003  0.0053  0.0036   R  \n",
      "11  0.0265  0.0224  0.0074  0.0118  0.0026  0.0092  0.0009  0.0044   R  \n",
      "12  0.0127  0.0088  0.0098  0.0019  0.0059  0.0058  0.0059  0.0032   R  \n",
      "13  0.0095  0.0194  0.0080  0.0152  0.0158  0.0053  0.0189  0.0102   R  \n",
      "14  0.0057  0.0174  0.0188  0.0054  0.0114  0.0196  0.0147  0.0062   R  \n",
      "15  0.0153  0.0071  0.0212  0.0076  0.0152  0.0049  0.0200  0.0073   R  \n",
      "16  0.0158  0.0154  0.0109  0.0048  0.0095  0.0015  0.0073  0.0067   R  \n",
      "17  0.0131  0.0120  0.0108  0.0024  0.0045  0.0037  0.0112  0.0075   R  \n",
      "18  0.0010  0.0018  0.0068  0.0039  0.0120  0.0132  0.0070  0.0088   R  \n",
      "19  0.0035  0.0098  0.0121  0.0006  0.0181  0.0094  0.0116  0.0063   R  \n",
      "\n",
      "[20 rows x 61 columns]\n"
     ]
    }
   ],
   "source": [
    "# head\n",
    "set_option('display.width', 100)\n",
    "print(dataset.head(20))\n"
   ]
  },
  {
   "cell_type": "code",
   "execution_count": 13,
   "id": "0c4692a8",
   "metadata": {},
   "outputs": [
    {
     "name": "stdout",
     "output_type": "stream",
     "text": [
      "            0          1        2        3        4        5        6        7        8        9   \\\n",
      "count  208.000  2.080e+02  208.000  208.000  208.000  208.000  208.000  208.000  208.000  208.000   \n",
      "mean     0.029  3.844e-02    0.044    0.054    0.075    0.105    0.122    0.135    0.178    0.208   \n",
      "std      0.023  3.296e-02    0.038    0.047    0.056    0.059    0.062    0.085    0.118    0.134   \n",
      "min      0.002  6.000e-04    0.002    0.006    0.007    0.010    0.003    0.005    0.007    0.011   \n",
      "25%      0.013  1.645e-02    0.019    0.024    0.038    0.067    0.081    0.080    0.097    0.111   \n",
      "50%      0.023  3.080e-02    0.034    0.044    0.062    0.092    0.107    0.112    0.152    0.182   \n",
      "75%      0.036  4.795e-02    0.058    0.065    0.100    0.134    0.154    0.170    0.233    0.269   \n",
      "max      0.137  2.339e-01    0.306    0.426    0.401    0.382    0.373    0.459    0.683    0.711   \n",
      "\n",
      "       ...       50         51         52       53         54         55         56         57  \\\n",
      "count  ...  208.000  2.080e+02  2.080e+02  208.000  2.080e+02  2.080e+02  2.080e+02  2.080e+02   \n",
      "mean   ...    0.016  1.342e-02  1.071e-02    0.011  9.290e-03  8.222e-03  7.820e-03  7.949e-03   \n",
      "std    ...    0.012  9.634e-03  7.060e-03    0.007  7.088e-03  5.736e-03  5.785e-03  6.470e-03   \n",
      "min    ...    0.000  8.000e-04  5.000e-04    0.001  6.000e-04  4.000e-04  3.000e-04  3.000e-04   \n",
      "25%    ...    0.008  7.275e-03  5.075e-03    0.005  4.150e-03  4.400e-03  3.700e-03  3.600e-03   \n",
      "50%    ...    0.014  1.140e-02  9.550e-03    0.009  7.500e-03  6.850e-03  5.950e-03  5.800e-03   \n",
      "75%    ...    0.021  1.673e-02  1.490e-02    0.015  1.210e-02  1.058e-02  1.043e-02  1.035e-02   \n",
      "max    ...    0.100  7.090e-02  3.900e-02    0.035  4.470e-02  3.940e-02  3.550e-02  4.400e-02   \n",
      "\n",
      "              58         59  \n",
      "count  2.080e+02  2.080e+02  \n",
      "mean   7.941e-03  6.507e-03  \n",
      "std    6.181e-03  5.031e-03  \n",
      "min    1.000e-04  6.000e-04  \n",
      "25%    3.675e-03  3.100e-03  \n",
      "50%    6.400e-03  5.300e-03  \n",
      "75%    1.033e-02  8.525e-03  \n",
      "max    3.640e-02  4.390e-02  \n",
      "\n",
      "[8 rows x 60 columns]\n"
     ]
    }
   ],
   "source": [
    "# descriptions, change precision to 3 places\n",
    "set_option('precision', 3)\n",
    "print(dataset.describe())"
   ]
  },
  {
   "cell_type": "code",
   "execution_count": 14,
   "id": "8b8e4f7e",
   "metadata": {},
   "outputs": [
    {
     "name": "stdout",
     "output_type": "stream",
     "text": [
      "60\n",
      "M    111\n",
      "R     97\n",
      "dtype: int64\n"
     ]
    }
   ],
   "source": [
    "# class distribution\n",
    "print(dataset.groupby(60).size())\n"
   ]
  },
  {
   "cell_type": "code",
   "execution_count": 16,
   "id": "1e32dd6c",
   "metadata": {},
   "outputs": [
    {
     "data": {
      "image/png": "[encoded data removed]",
      "text/plain": [
       "<Figure size 432x288 with 64 Axes>"
      ]
     },
     "metadata": {
      "needs_background": "light"
     },
     "output_type": "display_data"
    }
   ],
   "source": [
    "# Data visualizations\n",
    "\n",
    "# histograms\n",
    "dataset.hist(sharex=False, sharey=False, xlabelsize=1, ylabelsize=1)\n",
    "pyplot.show()"
   ]
  },
  {
   "cell_type": "code",
   "execution_count": 17,
   "id": "c2af93fb",
   "metadata": {},
   "outputs": [
    {
     "data": {
      "image/png": "[encoded data removed]",
      "text/plain": [
       "<Figure size 432x288 with 64 Axes>"
      ]
     },
     "metadata": {
      "needs_background": "light"
     },
     "output_type": "display_data"
    }
   ],
   "source": [
    "# density\n",
    "dataset.plot(kind='density', subplots=True, layout=(8,8), sharex=False, legend=False, fontsize=1)\n",
    "pyplot.show()"
   ]
  },
  {
   "cell_type": "code",
   "execution_count": 18,
   "id": "1f50ef9f",
   "metadata": {},
   "outputs": [
    {
     "data": {
      "image/png": "[encoded data removed]",
      "text/plain": [
       "<Figure size 432x288 with 2 Axes>"
      ]
     },
     "metadata": {
      "needs_background": "light"
     },
     "output_type": "display_data"
    }
   ],
   "source": [
    "# correlation matrix\n",
    "fig = pyplot.figure()\n",
    "ax = fig.add_subplot(111)\n",
    "cax = ax.matshow(dataset.corr(), vmin=-1, vmax=1, interpolation='none')\n",
    "fig.colorbar(cax)\n",
    "pyplot.show()"
   ]
  },
  {
   "cell_type": "markdown",
   "id": "fb3a8014",
   "metadata": {},
   "source": [
    "# Machine Learning"
   ]
  },
  {
   "cell_type": "code",
   "execution_count": 19,
   "id": "f4957508",
   "metadata": {},
   "outputs": [],
   "source": [
    "# Prepare Data\n",
    "\n",
    "# Split-out validation dataset\n",
    "array = dataset.values\n",
    "X = array[:,0:60].astype(float)\n",
    "Y = array[:,60]\n",
    "validation_size = 0.20\n",
    "seed = 7\n",
    "X_train, X_validation, Y_train, Y_validation = train_test_split(X, Y, test_size=validation_size, random_state=seed)\n"
   ]
  },
  {
   "cell_type": "code",
   "execution_count": 20,
   "id": "4a01c418",
   "metadata": {},
   "outputs": [],
   "source": [
    "# Evaluate Algorithms\n",
    "\n",
    "# Test options and evaluation metric\n",
    "num_folds = 10\n",
    "seed = 7\n",
    "scoring = 'accuracy'"
   ]
  },
  {
   "cell_type": "code",
   "execution_count": 21,
   "id": "9b2ebc00",
   "metadata": {},
   "outputs": [
    {
     "name": "stdout",
     "output_type": "stream",
     "text": [
      "LR: 0.759926 (0.091145)\n",
      "LDA: 0.778676 (0.093570)\n",
      "KNN: 0.758824 (0.106417)\n",
      "CART: 0.752574 (0.087250)\n",
      "NB: 0.682721 (0.136040)\n",
      "SVM: 0.565809 (0.141326)\n"
     ]
    }
   ],
   "source": [
    "# Spot Check Algorithms\n",
    "models = []\n",
    "models.append(('LR', LogisticRegression(solver='liblinear')))\n",
    "models.append(('LDA', LinearDiscriminantAnalysis()))\n",
    "models.append(('KNN', KNeighborsClassifier()))\n",
    "models.append(('CART', DecisionTreeClassifier()))\n",
    "models.append(('NB', GaussianNB()))\n",
    "models.append(('SVM', SVC(gamma='auto')))\n",
    "results = []\n",
    "names = []\n",
    "for name, model in models:\n",
    "\tkfold = KFold(n_splits=num_folds, random_state=seed, shuffle=True)\n",
    "\tcv_results = cross_val_score(model, X_train, Y_train, cv=kfold, scoring=scoring)\n",
    "\tresults.append(cv_results)\n",
    "\tnames.append(name)\n",
    "\tmsg = \"%s: %f (%f)\" % (name, cv_results.mean(), cv_results.std())\n",
    "\tprint(msg)"
   ]
  },
  {
   "cell_type": "code",
   "execution_count": 22,
   "id": "cecfab1a",
   "metadata": {},
   "outputs": [
    {
     "data": {
      "image/png": "[encoded data removed]",
      "text/plain": [
       "<Figure size 432x288 with 1 Axes>"
      ]
     },
     "metadata": {
      "needs_background": "light"
     },
     "output_type": "display_data"
    }
   ],
   "source": [
    "# Compare Algorithms\n",
    "fig = pyplot.figure()\n",
    "fig.suptitle('Algorithm Comparison')\n",
    "ax = fig.add_subplot(111)\n",
    "pyplot.boxplot(results)\n",
    "ax.set_xticklabels(names)\n",
    "pyplot.show()"
   ]
  },
  {
   "cell_type": "code",
   "execution_count": 23,
   "id": "7d039650",
   "metadata": {},
   "outputs": [
    {
     "name": "stdout",
     "output_type": "stream",
     "text": [
      "ScaledLR: 0.754412 (0.067926)\n",
      "ScaledLDA: 0.778676 (0.093570)\n",
      "ScaledKNN: 0.808456 (0.107996)\n",
      "ScaledCART: 0.740074 (0.091115)\n",
      "ScaledNB: 0.682721 (0.136040)\n",
      "ScaledSVM: 0.826103 (0.081814)\n"
     ]
    }
   ],
   "source": [
    "# Standardize the dataset\n",
    "pipelines = []\n",
    "pipelines.append(('ScaledLR', Pipeline([('Scaler', StandardScaler()),('LR', LogisticRegression(solver='liblinear'))])))\n",
    "pipelines.append(('ScaledLDA', Pipeline([('Scaler', StandardScaler()),('LDA', LinearDiscriminantAnalysis())])))\n",
    "pipelines.append(('ScaledKNN', Pipeline([('Scaler', StandardScaler()),('KNN', KNeighborsClassifier())])))\n",
    "pipelines.append(('ScaledCART', Pipeline([('Scaler', StandardScaler()),('CART', DecisionTreeClassifier())])))\n",
    "pipelines.append(('ScaledNB', Pipeline([('Scaler', StandardScaler()),('NB', GaussianNB())])))\n",
    "pipelines.append(('ScaledSVM', Pipeline([('Scaler', StandardScaler()),('SVM', SVC(gamma='auto'))])))\n",
    "results = []\n",
    "names = []\n",
    "for name, model in pipelines:\n",
    "\tkfold = KFold(n_splits=num_folds, random_state=seed, shuffle=True)\n",
    "\tcv_results = cross_val_score(model, X_train, Y_train, cv=kfold, scoring=scoring)\n",
    "\tresults.append(cv_results)\n",
    "\tnames.append(name)\n",
    "\tmsg = \"%s: %f (%f)\" % (name, cv_results.mean(), cv_results.std())\n",
    "\tprint(msg)"
   ]
  },
  {
   "cell_type": "code",
   "execution_count": 24,
   "id": "85f9cc7d",
   "metadata": {},
   "outputs": [
    {
     "data": {
      "image/png": "[encoded data removed]",
      "text/plain": [
       "<Figure size 432x288 with 1 Axes>"
      ]
     },
     "metadata": {
      "needs_background": "light"
     },
     "output_type": "display_data"
    }
   ],
   "source": [
    "# Compare Algorithms\n",
    "fig = pyplot.figure()\n",
    "fig.suptitle('Scaled Algorithm Comparison')\n",
    "ax = fig.add_subplot(111)\n",
    "pyplot.boxplot(results)\n",
    "ax.set_xticklabels(names)\n",
    "pyplot.show()"
   ]
  },
  {
   "cell_type": "code",
   "execution_count": 25,
   "id": "71e3c19c",
   "metadata": {},
   "outputs": [
    {
     "name": "stdout",
     "output_type": "stream",
     "text": [
      "Best: 0.836029 using {'n_neighbors': 1}\n",
      "0.836029 (0.079487) with: {'n_neighbors': 1}\n",
      "0.813603 (0.088021) with: {'n_neighbors': 3}\n",
      "0.814338 (0.096870) with: {'n_neighbors': 5}\n",
      "0.777574 (0.120387) with: {'n_neighbors': 7}\n",
      "0.730147 (0.099376) with: {'n_neighbors': 9}\n",
      "0.741544 (0.073970) with: {'n_neighbors': 11}\n",
      "0.710662 (0.105829) with: {'n_neighbors': 13}\n",
      "0.723162 (0.080983) with: {'n_neighbors': 15}\n",
      "0.698897 (0.072669) with: {'n_neighbors': 17}\n",
      "0.710662 (0.091337) with: {'n_neighbors': 19}\n",
      "0.698897 (0.091195) with: {'n_neighbors': 21}\n"
     ]
    }
   ],
   "source": [
    "# Tune scaled KNN\n",
    "scaler = StandardScaler().fit(X_train)\n",
    "rescaledX = scaler.transform(X_train)\n",
    "neighbors = [1,3,5,7,9,11,13,15,17,19,21]\n",
    "param_grid = dict(n_neighbors=neighbors)\n",
    "model = KNeighborsClassifier()\n",
    "kfold = KFold(n_splits=num_folds, random_state=seed, shuffle=True)\n",
    "grid = GridSearchCV(estimator=model, param_grid=param_grid, scoring=scoring, cv=kfold)\n",
    "grid_result = grid.fit(rescaledX, Y_train)\n",
    "print(\"Best: %f using %s\" % (grid_result.best_score_, grid_result.best_params_))\n",
    "means = grid_result.cv_results_['mean_test_score']\n",
    "stds = grid_result.cv_results_['std_test_score']\n",
    "params = grid_result.cv_results_['params']\n",
    "for mean, stdev, param in zip(means, stds, params):\n",
    "    print(\"%f (%f) with: %r\" % (mean, stdev, param))"
   ]
  },
  {
   "cell_type": "code",
   "execution_count": 26,
   "id": "2c3138d4",
   "metadata": {},
   "outputs": [
    {
     "name": "stdout",
     "output_type": "stream",
     "text": [
      "Best: 0.850735 using {'C': 2.0, 'kernel': 'poly'}\n",
      "0.748529 (0.069953) with: {'C': 0.1, 'kernel': 'linear'}\n",
      "0.570956 (0.131380) with: {'C': 0.1, 'kernel': 'poly'}\n",
      "0.601103 (0.184435) with: {'C': 0.1, 'kernel': 'rbf'}\n",
      "0.712868 (0.116579) with: {'C': 0.1, 'kernel': 'sigmoid'}\n",
      "0.754412 (0.082337) with: {'C': 0.3, 'kernel': 'linear'}\n",
      "0.656618 (0.104417) with: {'C': 0.3, 'kernel': 'poly'}\n",
      "0.748162 (0.085295) with: {'C': 0.3, 'kernel': 'rbf'}\n",
      "0.748897 (0.078423) with: {'C': 0.3, 'kernel': 'sigmoid'}\n",
      "0.765809 (0.070336) with: {'C': 0.5, 'kernel': 'linear'}\n",
      "0.704412 (0.110346) with: {'C': 0.5, 'kernel': 'poly'}\n",
      "0.772426 (0.081837) with: {'C': 0.5, 'kernel': 'rbf'}\n",
      "0.760662 (0.065632) with: {'C': 0.5, 'kernel': 'sigmoid'}\n",
      "0.759926 (0.083206) with: {'C': 0.7, 'kernel': 'linear'}\n",
      "0.753676 (0.095135) with: {'C': 0.7, 'kernel': 'poly'}\n",
      "0.814338 (0.059832) with: {'C': 0.7, 'kernel': 'rbf'}\n",
      "0.766912 (0.072850) with: {'C': 0.7, 'kernel': 'sigmoid'}\n",
      "0.765441 (0.066964) with: {'C': 0.9, 'kernel': 'linear'}\n",
      "0.783824 (0.093729) with: {'C': 0.9, 'kernel': 'poly'}\n",
      "0.813971 (0.066689) with: {'C': 0.9, 'kernel': 'rbf'}\n",
      "0.760662 (0.079898) with: {'C': 0.9, 'kernel': 'sigmoid'}\n",
      "0.771691 (0.062141) with: {'C': 1.0, 'kernel': 'linear'}\n",
      "0.813971 (0.097315) with: {'C': 1.0, 'kernel': 'poly'}\n",
      "0.819853 (0.069795) with: {'C': 1.0, 'kernel': 'rbf'}\n",
      "0.760662 (0.079898) with: {'C': 1.0, 'kernel': 'sigmoid'}\n",
      "0.772059 (0.076696) with: {'C': 1.3, 'kernel': 'linear'}\n",
      "0.826103 (0.075722) with: {'C': 1.3, 'kernel': 'poly'}\n",
      "0.838235 (0.092498) with: {'C': 1.3, 'kernel': 'rbf'}\n",
      "0.754779 (0.073162) with: {'C': 1.3, 'kernel': 'sigmoid'}\n",
      "0.772426 (0.085441) with: {'C': 1.5, 'kernel': 'linear'}\n",
      "0.838603 (0.077580) with: {'C': 1.5, 'kernel': 'poly'}\n",
      "0.844118 (0.089455) with: {'C': 1.5, 'kernel': 'rbf'}\n",
      "0.731250 (0.091624) with: {'C': 1.5, 'kernel': 'sigmoid'}\n",
      "0.778676 (0.085856) with: {'C': 1.7, 'kernel': 'linear'}\n",
      "0.838603 (0.077580) with: {'C': 1.7, 'kernel': 'poly'}\n",
      "0.850000 (0.089841) with: {'C': 1.7, 'kernel': 'rbf'}\n",
      "0.712868 (0.093998) with: {'C': 1.7, 'kernel': 'sigmoid'}\n",
      "0.778676 (0.085856) with: {'C': 2.0, 'kernel': 'linear'}\n",
      "0.850735 (0.069352) with: {'C': 2.0, 'kernel': 'poly'}\n",
      "0.850000 (0.081776) with: {'C': 2.0, 'kernel': 'rbf'}\n",
      "0.725000 (0.091776) with: {'C': 2.0, 'kernel': 'sigmoid'}\n"
     ]
    }
   ],
   "source": [
    "# Tune scaled SVM\n",
    "scaler = StandardScaler().fit(X_train)\n",
    "rescaledX = scaler.transform(X_train)\n",
    "c_values = [0.1, 0.3, 0.5, 0.7, 0.9, 1.0, 1.3, 1.5, 1.7, 2.0]\n",
    "kernel_values = ['linear', 'poly', 'rbf', 'sigmoid']\n",
    "param_grid = dict(C=c_values, kernel=kernel_values)\n",
    "model = SVC(gamma='auto')\n",
    "kfold = KFold(n_splits=num_folds, random_state=seed, shuffle=True)\n",
    "grid = GridSearchCV(estimator=model, param_grid=param_grid, scoring=scoring, cv=kfold)\n",
    "grid_result = grid.fit(rescaledX, Y_train)\n",
    "print(\"Best: %f using %s\" % (grid_result.best_score_, grid_result.best_params_))\n",
    "means = grid_result.cv_results_['mean_test_score']\n",
    "stds = grid_result.cv_results_['std_test_score']\n",
    "params = grid_result.cv_results_['params']\n",
    "for mean, stdev, param in zip(means, stds, params):\n",
    "    print(\"%f (%f) with: %r\" % (mean, stdev, param))"
   ]
  },
  {
   "cell_type": "code",
   "execution_count": 27,
   "id": "0c6c4245",
   "metadata": {},
   "outputs": [
    {
     "name": "stdout",
     "output_type": "stream",
     "text": [
      "AB: 0.782721 (0.072445)\n",
      "GBM: 0.820221 (0.120658)\n",
      "RF: 0.743015 (0.102552)\n",
      "ET: 0.766176 (0.095591)\n"
     ]
    }
   ],
   "source": [
    "# ensembles\n",
    "ensembles = []\n",
    "ensembles.append(('AB', AdaBoostClassifier()))\n",
    "ensembles.append(('GBM', GradientBoostingClassifier()))\n",
    "ensembles.append(('RF', RandomForestClassifier(n_estimators=10)))\n",
    "ensembles.append(('ET', ExtraTreesClassifier(n_estimators=10)))\n",
    "results = []\n",
    "names = []\n",
    "for name, model in ensembles:\n",
    "\tkfold = KFold(n_splits=num_folds, random_state=seed, shuffle=True)\n",
    "\tcv_results = cross_val_score(model, X_train, Y_train, cv=kfold, scoring=scoring)\n",
    "\tresults.append(cv_results)\n",
    "\tnames.append(name)\n",
    "\tmsg = \"%s: %f (%f)\" % (name, cv_results.mean(), cv_results.std())\n",
    "\tprint(msg)"
   ]
  },
  {
   "cell_type": "code",
   "execution_count": 28,
   "id": "0e07dd55",
   "metadata": {},
   "outputs": [
    {
     "data": {
      "image/png": "[encoded data removed]",
      "text/plain": [
       "<Figure size 432x288 with 1 Axes>"
      ]
     },
     "metadata": {
      "needs_background": "light"
     },
     "output_type": "display_data"
    }
   ],
   "source": [
    "# Compare Algorithms\n",
    "fig = pyplot.figure()\n",
    "fig.suptitle('Ensemble Algorithm Comparison')\n",
    "ax = fig.add_subplot(111)\n",
    "pyplot.boxplot(results)\n",
    "ax.set_xticklabels(names)\n",
    "pyplot.show()"
   ]
  },
  {
   "cell_type": "code",
   "execution_count": 29,
   "id": "c5941fae",
   "metadata": {},
   "outputs": [
    {
     "name": "stdout",
     "output_type": "stream",
     "text": [
      "0.8571428571428571\n",
      "[[23  4]\n",
      " [ 2 13]]\n",
      "              precision    recall  f1-score   support\n",
      "\n",
      "           M       0.92      0.85      0.88        27\n",
      "           R       0.76      0.87      0.81        15\n",
      "\n",
      "    accuracy                           0.86        42\n",
      "   macro avg       0.84      0.86      0.85        42\n",
      "weighted avg       0.86      0.86      0.86        42\n",
      "\n"
     ]
    }
   ],
   "source": [
    "# Finalize Model\n",
    "\n",
    "# prepare the model\n",
    "scaler = StandardScaler().fit(X_train)\n",
    "rescaledX = scaler.transform(X_train)\n",
    "model = SVC(gamma='auto', C=1.5)\n",
    "model.fit(rescaledX, Y_train)\n",
    "# estimate accuracy on validation dataset\n",
    "rescaledValidationX = scaler.transform(X_validation)\n",
    "predictions = model.predict(rescaledValidationX)\n",
    "print(accuracy_score(Y_validation, predictions))\n",
    "print(confusion_matrix(Y_validation, predictions))\n",
    "print(classification_report(Y_validation, predictions))\n"
   ]
  },
  {
   "cell_type": "markdown",
   "id": "19a7d940",
   "metadata": {},
   "source": [
    "# Deep Learning"
   ]
  },
  {
   "cell_type": "code",
   "execution_count": 34,
   "id": "97aaf31b",
   "metadata": {},
   "outputs": [
    {
     "name": "stdout",
     "output_type": "stream",
     "text": [
      "Collecting keras\n",
      "  Downloading Keras-2.4.3-py2.py3-none-any.whl (36 kB)\n",
      "Requirement already satisfied: numpy>=1.9.1 in c:\\users\\sanke\\anaconda3\\lib\\site-packages (from keras) (1.20.1)\n",
      "Requirement already satisfied: h5py in c:\\users\\sanke\\anaconda3\\lib\\site-packages (from keras) (2.10.0)\n",
      "Requirement already satisfied: scipy>=0.14 in c:\\users\\sanke\\anaconda3\\lib\\site-packages (from keras) (1.6.2)\n",
      "Requirement already satisfied: pyyaml in c:\\users\\sanke\\anaconda3\\lib\\site-packages (from keras) (5.4.1)\n",
      "Requirement already satisfied: six in c:\\users\\sanke\\anaconda3\\lib\\site-packages (from h5py->keras) (1.15.0)\n",
      "Installing collected packages: keras\n",
      "Successfully installed keras-2.4.3\n",
      "Note: you may need to restart the kernel to use updated packages.\n"
     ]
    }
   ],
   "source": [
    "pip install keras"
   ]
  },
  {
   "cell_type": "code",
   "execution_count": 36,
   "id": "b873fad1",
   "metadata": {},
   "outputs": [
    {
     "name": "stdout",
     "output_type": "stream",
     "text": [
      "Collecting package metadata (current_repodata.json): ...working... done\n",
      "Solving environment: ...working... failed with initial frozen solve. Retrying with flexible solve.\n",
      "Solving environment: ...working... failed with repodata from current_repodata.json, will retry with next repodata source.\n",
      "Collecting package metadata (repodata.json): ...working... done\n",
      "Solving environment: ...working... done\n",
      "\n",
      "## Package Plan ##\n",
      "\n",
      "  environment location: C:\\Users\\sanke\\anaconda3\n",
      "\n",
      "  added / updated specs:\n",
      "    - tensorflow\n",
      "\n",
      "\n",
      "The following packages will be downloaded:\n",
      "\n",
      "    package                    |            build\n",
      "    ---------------------------|-----------------\n",
      "    _tflow_select-2.3.0        |            eigen           4 KB\n",
      "    absl-py-0.13.0             |     pyhd8ed1ab_0          97 KB  conda-forge\n",
      "    astor-0.8.1                |     pyh9f0ad1d_0          25 KB  conda-forge\n",
      "    astunparse-1.6.3           |     pyhd8ed1ab_0          15 KB  conda-forge\n",
      "    blinker-1.4                |             py_1          13 KB  conda-forge\n",
      "    cachetools-4.2.2           |     pyhd8ed1ab_0          12 KB  conda-forge\n",
      "    conda-4.10.3               |   py38haa244fe_0         3.1 MB  conda-forge\n",
      "    gast-0.4.0                 |     pyh9f0ad1d_0          12 KB  conda-forge\n",
      "    google-auth-1.21.3         |             py_0          56 KB  conda-forge\n",
      "    google-auth-oauthlib-0.4.1 |             py_2          18 KB  conda-forge\n",
      "    google-pasta-0.2.0         |     pyh8c360ce_0          42 KB  conda-forge\n",
      "    grpcio-1.38.1              |   py38he5377a8_0         2.0 MB  conda-forge\n",
      "    keras-applications-1.0.8   |             py_1          30 KB  conda-forge\n",
      "    keras-preprocessing-1.1.2  |     pyhd8ed1ab_0          34 KB  conda-forge\n",
      "    libprotobuf-3.17.2         |       h7755175_0         2.3 MB  conda-forge\n",
      "    markdown-3.3.4             |     pyhd8ed1ab_0          67 KB  conda-forge\n",
      "    oauthlib-3.1.1             |     pyhd8ed1ab_0          87 KB  conda-forge\n",
      "    opt_einsum-3.3.0           |     pyhd8ed1ab_1          53 KB  conda-forge\n",
      "    protobuf-3.17.2            |   py38h885f38d_0         261 KB  conda-forge\n",
      "    pyasn1-0.4.8               |             py_0          53 KB  conda-forge\n",
      "    pyasn1-modules-0.2.7       |             py_0          60 KB  conda-forge\n",
      "    pyjwt-2.1.0                |     pyhd8ed1ab_0          17 KB  conda-forge\n",
      "    python_abi-3.8             |           2_cp38           4 KB  conda-forge\n",
      "    requests-oauthlib-1.3.0    |     pyh9f0ad1d_0          21 KB  conda-forge\n",
      "    rsa-4.7.2                  |     pyh44b312d_0          28 KB  conda-forge\n",
      "    tensorboard-2.5.0          |     pyhd8ed1ab_0         5.5 MB  conda-forge\n",
      "    tensorboard-data-server-0.6.0|   py38haa244fe_0          12 KB  conda-forge\n",
      "    tensorboard-plugin-wit-1.8.0|     pyh44b312d_0         670 KB  conda-forge\n",
      "    tensorflow-2.3.0           |mkl_py38h8c0d9a2_0           6 KB\n",
      "    tensorflow-base-2.3.0      |eigen_py38h75a453f_0        49.5 MB\n",
      "    tensorflow-estimator-2.5.0 |     pyh81a9013_1         289 KB  conda-forge\n",
      "    termcolor-1.1.0            |             py_2           6 KB  conda-forge\n",
      "    ------------------------------------------------------------\n",
      "                                           Total:        64.3 MB\n",
      "\n",
      "The following NEW packages will be INSTALLED:\n",
      "\n",
      "  _tflow_select      pkgs/main/win-64::_tflow_select-2.3.0-eigen\n",
      "  absl-py            conda-forge/noarch::absl-py-0.13.0-pyhd8ed1ab_0\n",
      "  astor              conda-forge/noarch::astor-0.8.1-pyh9f0ad1d_0\n",
      "  astunparse         conda-forge/noarch::astunparse-1.6.3-pyhd8ed1ab_0\n",
      "  blinker            conda-forge/noarch::blinker-1.4-py_1\n",
      "  cachetools         conda-forge/noarch::cachetools-4.2.2-pyhd8ed1ab_0\n",
      "  gast               conda-forge/noarch::gast-0.4.0-pyh9f0ad1d_0\n",
      "  google-auth        conda-forge/noarch::google-auth-1.21.3-py_0\n",
      "  google-auth-oauth~ conda-forge/noarch::google-auth-oauthlib-0.4.1-py_2\n",
      "  google-pasta       conda-forge/noarch::google-pasta-0.2.0-pyh8c360ce_0\n",
      "  grpcio             conda-forge/win-64::grpcio-1.38.1-py38he5377a8_0\n",
      "  keras-applications conda-forge/noarch::keras-applications-1.0.8-py_1\n",
      "  keras-preprocessi~ conda-forge/noarch::keras-preprocessing-1.1.2-pyhd8ed1ab_0\n",
      "  libprotobuf        conda-forge/win-64::libprotobuf-3.17.2-h7755175_0\n",
      "  markdown           conda-forge/noarch::markdown-3.3.4-pyhd8ed1ab_0\n",
      "  oauthlib           conda-forge/noarch::oauthlib-3.1.1-pyhd8ed1ab_0\n",
      "  opt_einsum         conda-forge/noarch::opt_einsum-3.3.0-pyhd8ed1ab_1\n",
      "  protobuf           conda-forge/win-64::protobuf-3.17.2-py38h885f38d_0\n",
      "  pyasn1             conda-forge/noarch::pyasn1-0.4.8-py_0\n",
      "  pyasn1-modules     conda-forge/noarch::pyasn1-modules-0.2.7-py_0\n",
      "  pyjwt              conda-forge/noarch::pyjwt-2.1.0-pyhd8ed1ab_0\n",
      "  python_abi         conda-forge/win-64::python_abi-3.8-2_cp38\n",
      "  requests-oauthlib  conda-forge/noarch::requests-oauthlib-1.3.0-pyh9f0ad1d_0\n",
      "  rsa                conda-forge/noarch::rsa-4.7.2-pyh44b312d_0\n",
      "  tensorboard        conda-forge/noarch::tensorboard-2.5.0-pyhd8ed1ab_0\n",
      "  tensorboard-data-~ conda-forge/win-64::tensorboard-data-server-0.6.0-py38haa244fe_0\n",
      "  tensorboard-plugi~ conda-forge/noarch::tensorboard-plugin-wit-1.8.0-pyh44b312d_0\n",
      "  tensorflow         pkgs/main/win-64::tensorflow-2.3.0-mkl_py38h8c0d9a2_0\n",
      "  tensorflow-base    pkgs/main/win-64::tensorflow-base-2.3.0-eigen_py38h75a453f_0\n",
      "  tensorflow-estima~ conda-forge/noarch::tensorflow-estimator-2.5.0-pyh81a9013_1\n",
      "  termcolor          conda-forge/noarch::termcolor-1.1.0-py_2\n",
      "\n",
      "The following packages will be UPDATED:\n",
      "\n",
      "  conda              pkgs/main::conda-4.10.1-py38haa95532_1 --> conda-forge::conda-4.10.3-py38haa244fe_0\n",
      "\n",
      "\n",
      "\n",
      "Downloading and Extracting Packages\n",
      "\n",
      "python_abi-3.8       | 4 KB      |            |   0% \n",
      "python_abi-3.8       | 4 KB      | ########## | 100% \n",
      "python_abi-3.8       | 4 KB      | ########## | 100% \n",
      "\n",
      "termcolor-1.1.0      | 6 KB      |            |   0% \n",
      "termcolor-1.1.0      | 6 KB      | ########## | 100% \n",
      "termcolor-1.1.0      | 6 KB      | ########## | 100% \n",
      "\n",
      "requests-oauthlib-1. | 21 KB     |            |   0% \n",
      "requests-oauthlib-1. | 21 KB     | ########## | 100% \n",
      "requests-oauthlib-1. | 21 KB     | ########## | 100% \n",
      "\n",
      "tensorflow-2.3.0     | 6 KB      |            |   0% \n",
      "tensorflow-2.3.0     | 6 KB      | ########## | 100% \n",
      "tensorflow-2.3.0     | 6 KB      | ########## | 100% \n",
      "\n",
      "tensorboard-2.5.0    | 5.5 MB    |            |   0% \n",
      "tensorboard-2.5.0    | 5.5 MB    | 2          |   2% \n",
      "tensorboard-2.5.0    | 5.5 MB    | 9          |  10% \n",
      "tensorboard-2.5.0    | 5.5 MB    | ##2        |  23% \n",
      "tensorboard-2.5.0    | 5.5 MB    | ###7       |  37% \n",
      "tensorboard-2.5.0    | 5.5 MB    | #####      |  50% \n",
      "tensorboard-2.5.0    | 5.5 MB    | ######6    |  66% \n",
      "tensorboard-2.5.0    | 5.5 MB    | ########1  |  81% \n",
      "tensorboard-2.5.0    | 5.5 MB    | #########9 |  99% \n",
      "tensorboard-2.5.0    | 5.5 MB    | ########## | 100% \n",
      "\n",
      "gast-0.4.0           | 12 KB     |            |   0% \n",
      "gast-0.4.0           | 12 KB     | ########## | 100% \n",
      "gast-0.4.0           | 12 KB     | ########## | 100% \n",
      "\n",
      "grpcio-1.38.1        | 2.0 MB    |            |   0% \n",
      "grpcio-1.38.1        | 2.0 MB    | 6          |   7% \n",
      "grpcio-1.38.1        | 2.0 MB    | ####       |  40% \n",
      "grpcio-1.38.1        | 2.0 MB    | #######6   |  77% \n",
      "grpcio-1.38.1        | 2.0 MB    | ########## | 100% \n",
      "grpcio-1.38.1        | 2.0 MB    | ########## | 100% \n",
      "\n",
      "oauthlib-3.1.1       | 87 KB     |            |   0% \n",
      "oauthlib-3.1.1       | 87 KB     | ########## | 100% \n",
      "oauthlib-3.1.1       | 87 KB     | ########## | 100% \n",
      "\n",
      "keras-applications-1 | 30 KB     |            |   0% \n",
      "keras-applications-1 | 30 KB     | ########## | 100% \n",
      "keras-applications-1 | 30 KB     | ########## | 100% \n",
      "\n",
      "blinker-1.4          | 13 KB     |            |   0% \n",
      "blinker-1.4          | 13 KB     | ########## | 100% \n",
      "blinker-1.4          | 13 KB     | ########## | 100% \n",
      "\n",
      "pyasn1-0.4.8         | 53 KB     |            |   0% \n",
      "pyasn1-0.4.8         | 53 KB     | ###        |  30% \n",
      "pyasn1-0.4.8         | 53 KB     | ########## | 100% \n",
      "\n",
      "tensorboard-data-ser | 12 KB     |            |   0% \n",
      "tensorboard-data-ser | 12 KB     | ########## | 100% \n",
      "tensorboard-data-ser | 12 KB     | ########## | 100% \n",
      "\n",
      "tensorflow-estimator | 289 KB    |            |   0% \n",
      "tensorflow-estimator | 289 KB    | #1         |  11% \n",
      "tensorflow-estimator | 289 KB    | ######     |  61% \n",
      "tensorflow-estimator | 289 KB    | #######7   |  77% \n",
      "tensorflow-estimator | 289 KB    | ########## | 100% \n",
      "tensorflow-estimator | 289 KB    | ########## | 100% \n",
      "\n",
      "protobuf-3.17.2      | 261 KB    |            |   0% \n",
      "protobuf-3.17.2      | 261 KB    | ##4        |  25% \n",
      "protobuf-3.17.2      | 261 KB    | ########## | 100% \n",
      "protobuf-3.17.2      | 261 KB    | ########## | 100% \n",
      "\n",
      "cachetools-4.2.2     | 12 KB     |            |   0% \n",
      "cachetools-4.2.2     | 12 KB     | ########## | 100% \n",
      "\n",
      "astunparse-1.6.3     | 15 KB     |            |   0% \n",
      "astunparse-1.6.3     | 15 KB     | ########## | 100% \n",
      "\n",
      "google-pasta-0.2.0   | 42 KB     |            |   0% \n",
      "google-pasta-0.2.0   | 42 KB     | ########## | 100% \n",
      "\n",
      "google-auth-1.21.3   | 56 KB     |            |   0% \n",
      "google-auth-1.21.3   | 56 KB     | ##8        |  28% \n",
      "google-auth-1.21.3   | 56 KB     | ########## | 100% \n",
      "\n",
      "markdown-3.3.4       | 67 KB     |            |   0% \n",
      "markdown-3.3.4       | 67 KB     | ########## | 100% \n",
      "markdown-3.3.4       | 67 KB     | ########## | 100% \n",
      "\n",
      "absl-py-0.13.0       | 97 KB     |            |   0% \n",
      "absl-py-0.13.0       | 97 KB     | ########## | 100% \n",
      "absl-py-0.13.0       | 97 KB     | ########## | 100% \n",
      "\n",
      "tensorflow-base-2.3. | 49.5 MB   |            |   0% \n",
      "tensorflow-base-2.3. | 49.5 MB   |            |   0% \n",
      "tensorflow-base-2.3. | 49.5 MB   |            |   1% \n",
      "tensorflow-base-2.3. | 49.5 MB   | 1          |   2% \n",
      "tensorflow-base-2.3. | 49.5 MB   | 2          |   2% \n",
      "tensorflow-base-2.3. | 49.5 MB   | 3          |   3% \n",
      "tensorflow-base-2.3. | 49.5 MB   | 4          |   4% \n",
      "tensorflow-base-2.3. | 49.5 MB   | 5          |   5% \n",
      "tensorflow-base-2.3. | 49.5 MB   | 6          |   6% \n",
      "tensorflow-base-2.3. | 49.5 MB   | 7          |   7% \n",
      "tensorflow-base-2.3. | 49.5 MB   | 8          |   8% \n",
      "tensorflow-base-2.3. | 49.5 MB   | 8          |   9% \n",
      "tensorflow-base-2.3. | 49.5 MB   | 9          |  10% \n",
      "tensorflow-base-2.3. | 49.5 MB   | #          |  11% \n",
      "tensorflow-base-2.3. | 49.5 MB   | #1         |  12% \n",
      "tensorflow-base-2.3. | 49.5 MB   | #2         |  12% \n",
      "tensorflow-base-2.3. | 49.5 MB   | #3         |  13% \n",
      "tensorflow-base-2.3. | 49.5 MB   | #4         |  14% \n",
      "tensorflow-base-2.3. | 49.5 MB   | #4         |  15% \n",
      "tensorflow-base-2.3. | 49.5 MB   | #5         |  16% \n",
      "tensorflow-base-2.3. | 49.5 MB   | #6         |  16% \n",
      "tensorflow-base-2.3. | 49.5 MB   | #7         |  17% \n",
      "tensorflow-base-2.3. | 49.5 MB   | #7         |  18% \n",
      "tensorflow-base-2.3. | 49.5 MB   | #8         |  19% \n",
      "tensorflow-base-2.3. | 49.5 MB   | #9         |  19% \n",
      "tensorflow-base-2.3. | 49.5 MB   | #9         |  20% \n",
      "tensorflow-base-2.3. | 49.5 MB   | ##         |  21% \n",
      "tensorflow-base-2.3. | 49.5 MB   | ##1        |  21% \n",
      "tensorflow-base-2.3. | 49.5 MB   | ##1        |  22% \n",
      "tensorflow-base-2.3. | 49.5 MB   | ##2        |  22% \n",
      "tensorflow-base-2.3. | 49.5 MB   | ##2        |  23% \n",
      "tensorflow-base-2.3. | 49.5 MB   | ##3        |  23% \n",
      "tensorflow-base-2.3. | 49.5 MB   | ##4        |  24% \n",
      "tensorflow-base-2.3. | 49.5 MB   | ##4        |  25% \n",
      "tensorflow-base-2.3. | 49.5 MB   | ##5        |  25% \n",
      "tensorflow-base-2.3. | 49.5 MB   | ##5        |  26% \n",
      "tensorflow-base-2.3. | 49.5 MB   | ##6        |  27% \n",
      "tensorflow-base-2.3. | 49.5 MB   | ##7        |  27% \n",
      "tensorflow-base-2.3. | 49.5 MB   | ##8        |  28% \n",
      "tensorflow-base-2.3. | 49.5 MB   | ##8        |  29% \n",
      "tensorflow-base-2.3. | 49.5 MB   | ##9        |  29% \n",
      "tensorflow-base-2.3. | 49.5 MB   | ##9        |  30% \n",
      "tensorflow-base-2.3. | 49.5 MB   | ###        |  31% \n",
      "tensorflow-base-2.3. | 49.5 MB   | ###1       |  31% \n",
      "tensorflow-base-2.3. | 49.5 MB   | ###2       |  32% \n",
      "tensorflow-base-2.3. | 49.5 MB   | ###2       |  33% \n",
      "tensorflow-base-2.3. | 49.5 MB   | ###3       |  34% \n",
      "tensorflow-base-2.3. | 49.5 MB   | ###4       |  34% \n",
      "tensorflow-base-2.3. | 49.5 MB   | ###5       |  35% \n",
      "tensorflow-base-2.3. | 49.5 MB   | ###5       |  36% \n",
      "tensorflow-base-2.3. | 49.5 MB   | ###6       |  36% \n",
      "tensorflow-base-2.3. | 49.5 MB   | ###7       |  37% \n",
      "tensorflow-base-2.3. | 49.5 MB   | ###7       |  38% \n",
      "tensorflow-base-2.3. | 49.5 MB   | ###8       |  39% \n",
      "tensorflow-base-2.3. | 49.5 MB   | ###9       |  39% \n",
      "tensorflow-base-2.3. | 49.5 MB   | ###9       |  40% \n",
      "tensorflow-base-2.3. | 49.5 MB   | ####       |  40% \n",
      "tensorflow-base-2.3. | 49.5 MB   | ####       |  41% \n",
      "tensorflow-base-2.3. | 49.5 MB   | ####1      |  42% \n",
      "tensorflow-base-2.3. | 49.5 MB   | ####2      |  42% \n",
      "tensorflow-base-2.3. | 49.5 MB   | ####2      |  43% \n",
      "tensorflow-base-2.3. | 49.5 MB   | ####3      |  43% \n",
      "tensorflow-base-2.3. | 49.5 MB   | ####3      |  44% \n",
      "tensorflow-base-2.3. | 49.5 MB   | ####4      |  44% \n",
      "tensorflow-base-2.3. | 49.5 MB   | ####5      |  45% \n",
      "tensorflow-base-2.3. | 49.5 MB   | ####5      |  46% \n",
      "tensorflow-base-2.3. | 49.5 MB   | ####6      |  47% \n",
      "tensorflow-base-2.3. | 49.5 MB   | ####7      |  48% \n",
      "tensorflow-base-2.3. | 49.5 MB   | ####8      |  48% \n",
      "\n",
      "Note: you may need to restart the kernel to use updated packages.tensorflow-base-2.3. | 49.5 MB   | ####9      |  49% \n",
      "tensorflow-base-2.3. | 49.5 MB   | ####9      |  50% \n",
      "tensorflow-base-2.3. | 49.5 MB   | #####      |  51% \n",
      "tensorflow-base-2.3. | 49.5 MB   | #####1     |  51% \n",
      "tensorflow-base-2.3. | 49.5 MB   | #####1     |  52% \n",
      "tensorflow-base-2.3. | 49.5 MB   | #####2     |  53% \n",
      "tensorflow-base-2.3. | 49.5 MB   | #####3     |  53% \n",
      "tensorflow-base-2.3. | 49.5 MB   | #####3     |  54% \n",
      "tensorflow-base-2.3. | 49.5 MB   | #####4     |  54% \n",
      "tensorflow-base-2.3. | 49.5 MB   | #####5     |  55% \n",
      "tensorflow-base-2.3. | 49.5 MB   | #####5     |  56% \n",
      "tensorflow-base-2.3. | 49.5 MB   | #####6     |  57% \n",
      "tensorflow-base-2.3. | 49.5 MB   | #####7     |  57% \n",
      "tensorflow-base-2.3. | 49.5 MB   | #####7     |  58% \n",
      "tensorflow-base-2.3. | 49.5 MB   | #####8     |  59% \n",
      "tensorflow-base-2.3. | 49.5 MB   | #####9     |  59% \n",
      "tensorflow-base-2.3. | 49.5 MB   | ######     |  60% \n",
      "tensorflow-base-2.3. | 49.5 MB   | ######1    |  61% \n",
      "tensorflow-base-2.3. | 49.5 MB   | ######2    |  62% \n",
      "tensorflow-base-2.3. | 49.5 MB   | ######2    |  63% \n",
      "tensorflow-base-2.3. | 49.5 MB   | ######4    |  64% \n",
      "tensorflow-base-2.3. | 49.5 MB   | ######4    |  65% \n",
      "tensorflow-base-2.3. | 49.5 MB   | ######5    |  66% \n",
      "tensorflow-base-2.3. | 49.5 MB   | ######6    |  67% \n",
      "tensorflow-base-2.3. | 49.5 MB   | ######7    |  67% \n",
      "tensorflow-base-2.3. | 49.5 MB   | ######8    |  68% \n",
      "tensorflow-base-2.3. | 49.5 MB   | ######8    |  69% \n",
      "tensorflow-base-2.3. | 49.5 MB   | ######9    |  70% \n",
      "\n"
     ]
    },
    {
     "name": "stderr",
     "output_type": "stream",
     "text": [
      "\n",
      "\n",
      "==> WARNING: A newer version of conda exists. <==\n",
      "  current version: 4.10.1\n",
      "  latest version: 4.10.3\n",
      "\n",
      "Please update conda by running\n",
      "\n",
      "    $ conda update -n base -c defaults conda\n",
      "\n",
      "\n"
     ]
    },
    {
     "name": "stdout",
     "output_type": "stream",
     "text": [
      "tensorflow-base-2.3. | 49.5 MB   | #######    |  71% \n",
      "tensorflow-base-2.3. | 49.5 MB   | #######1   |  71% \n",
      "tensorflow-base-2.3. | 49.5 MB   | #######2   |  72% \n",
      "tensorflow-base-2.3. | 49.5 MB   | #######3   |  73% \n",
      "tensorflow-base-2.3. | 49.5 MB   | #######4   |  74% \n",
      "tensorflow-base-2.3. | 49.5 MB   | #######5   |  75% \n",
      "tensorflow-base-2.3. | 49.5 MB   | #######6   |  76% \n",
      "tensorflow-base-2.3. | 49.5 MB   | #######6   |  77% \n",
      "tensorflow-base-2.3. | 49.5 MB   | #######7   |  78% \n",
      "tensorflow-base-2.3. | 49.5 MB   | #######8   |  79% \n",
      "tensorflow-base-2.3. | 49.5 MB   | #######9   |  80% \n",
      "tensorflow-base-2.3. | 49.5 MB   | ########   |  81% \n",
      "tensorflow-base-2.3. | 49.5 MB   | ########1  |  81% \n",
      "tensorflow-base-2.3. | 49.5 MB   | ########2  |  82% \n",
      "tensorflow-base-2.3. | 49.5 MB   | ########3  |  83% \n",
      "tensorflow-base-2.3. | 49.5 MB   | ########4  |  84% \n",
      "tensorflow-base-2.3. | 49.5 MB   | ########5  |  85% \n",
      "tensorflow-base-2.3. | 49.5 MB   | ########5  |  86% \n",
      "tensorflow-base-2.3. | 49.5 MB   | ########6  |  87% \n",
      "tensorflow-base-2.3. | 49.5 MB   | ########7  |  88% \n",
      "tensorflow-base-2.3. | 49.5 MB   | ########8  |  88% \n",
      "tensorflow-base-2.3. | 49.5 MB   | ########9  |  89% \n",
      "tensorflow-base-2.3. | 49.5 MB   | #########  |  90% \n",
      "tensorflow-base-2.3. | 49.5 MB   | #########1 |  91% \n",
      "tensorflow-base-2.3. | 49.5 MB   | #########2 |  92% \n",
      "tensorflow-base-2.3. | 49.5 MB   | #########3 |  93% \n",
      "tensorflow-base-2.3. | 49.5 MB   | #########3 |  94% \n",
      "tensorflow-base-2.3. | 49.5 MB   | #########4 |  95% \n",
      "tensorflow-base-2.3. | 49.5 MB   | #########5 |  96% \n",
      "tensorflow-base-2.3. | 49.5 MB   | #########6 |  97% \n",
      "tensorflow-base-2.3. | 49.5 MB   | #########7 |  98% \n",
      "tensorflow-base-2.3. | 49.5 MB   | #########8 |  99% \n",
      "tensorflow-base-2.3. | 49.5 MB   | #########9 | 100% \n",
      "tensorflow-base-2.3. | 49.5 MB   | ########## | 100% \n",
      "\n",
      "libprotobuf-3.17.2   | 2.3 MB    |            |   0% \n",
      "libprotobuf-3.17.2   | 2.3 MB    | #          |  10% \n",
      "libprotobuf-3.17.2   | 2.3 MB    | ###8       |  39% \n",
      "libprotobuf-3.17.2   | 2.3 MB    | ######7    |  68% \n",
      "libprotobuf-3.17.2   | 2.3 MB    | #########1 |  92% \n",
      "libprotobuf-3.17.2   | 2.3 MB    | ########## | 100% \n",
      "\n",
      "pyasn1-modules-0.2.7 | 60 KB     |            |   0% \n",
      "pyasn1-modules-0.2.7 | 60 KB     | ########## | 100% \n",
      "pyasn1-modules-0.2.7 | 60 KB     | ########## | 100% \n",
      "\n",
      "astor-0.8.1          | 25 KB     |            |   0% \n",
      "astor-0.8.1          | 25 KB     | ########## | 100% \n",
      "astor-0.8.1          | 25 KB     | ########## | 100% \n",
      "\n",
      "opt_einsum-3.3.0     | 53 KB     |            |   0% \n",
      "opt_einsum-3.3.0     | 53 KB     | ########## | 100% \n",
      "opt_einsum-3.3.0     | 53 KB     | ########## | 100% \n",
      "\n",
      "_tflow_select-2.3.0  | 4 KB      |            |   0% \n",
      "_tflow_select-2.3.0  | 4 KB      | ########## | 100% \n",
      "_tflow_select-2.3.0  | 4 KB      | ########## | 100% \n",
      "\n",
      "google-auth-oauthlib | 18 KB     |            |   0% \n",
      "google-auth-oauthlib | 18 KB     | ########## | 100% \n",
      "\n",
      "pyjwt-2.1.0          | 17 KB     |            |   0% \n",
      "pyjwt-2.1.0          | 17 KB     | ########## | 100% \n",
      "\n",
      "rsa-4.7.2            | 28 KB     |            |   0% \n",
      "rsa-4.7.2            | 28 KB     | ########## | 100% \n",
      "rsa-4.7.2            | 28 KB     | ########## | 100% \n",
      "\n",
      "conda-4.10.3         | 3.1 MB    |            |   0% \n",
      "conda-4.10.3         | 3.1 MB    | 7          |   8% \n",
      "conda-4.10.3         | 3.1 MB    | ###2       |  33% \n",
      "conda-4.10.3         | 3.1 MB    | #####4     |  54% \n",
      "conda-4.10.3         | 3.1 MB    | #######2   |  73% \n",
      "conda-4.10.3         | 3.1 MB    | #########1 |  92% \n",
      "conda-4.10.3         | 3.1 MB    | ########## | 100% \n",
      "\n",
      "tensorboard-plugin-w | 670 KB    |            |   0% \n",
      "tensorboard-plugin-w | 670 KB    | 2          |   2% \n",
      "tensorboard-plugin-w | 670 KB    | ########3  |  84% \n",
      "tensorboard-plugin-w | 670 KB    | ########## | 100% \n",
      "\n",
      "keras-preprocessing- | 34 KB     |            |   0% \n",
      "keras-preprocessing- | 34 KB     | ########## | 100% \n",
      "keras-preprocessing- | 34 KB     | ########## | 100% \n",
      "Preparing transaction: ...working... done\n",
      "Verifying transaction: ...working... done\n",
      "Executing transaction: ...working... done\n"
     ]
    }
   ],
   "source": [
    "conda install -c conda-forge tensorflow"
   ]
  },
  {
   "cell_type": "code",
   "execution_count": 37,
   "id": "4e7e413f",
   "metadata": {},
   "outputs": [],
   "source": [
    "from pandas import read_csv\n",
    "from keras.models import Sequential\n",
    "from keras.layers import Dense\n",
    "from keras.wrappers.scikit_learn import KerasClassifier\n",
    "from sklearn.model_selection import cross_val_score\n",
    "from sklearn.preprocessing import LabelEncoder\n",
    "from sklearn.model_selection import StratifiedKFold\n",
    "from sklearn.preprocessing import StandardScaler\n",
    "from sklearn.pipeline import Pipeline"
   ]
  },
  {
   "cell_type": "code",
   "execution_count": 39,
   "id": "3571f05c",
   "metadata": {},
   "outputs": [],
   "source": [
    "# load dataset\n",
    "dataframe = read_csv(\"sonar.all-data.csv\", header=None)\n",
    "dataset = dataframe.values\n",
    "# split into input and output variables\n",
    "X = dataset[:,0:60].astype(float)\n",
    "Y = dataset[:,60]"
   ]
  },
  {
   "cell_type": "code",
   "execution_count": 40,
   "id": "a7502c0e",
   "metadata": {},
   "outputs": [],
   "source": [
    "# encode class values as integers\n",
    "encoder = LabelEncoder()\n",
    "encoder.fit(Y)\n",
    "encoded_Y = encoder.transform(Y)"
   ]
  },
  {
   "cell_type": "code",
   "execution_count": 42,
   "id": "5ea32854",
   "metadata": {},
   "outputs": [],
   "source": [
    "def create_baseline():\n",
    "\t# create model\n",
    "\tmodel = Sequential()\n",
    "\tmodel.add(Dense(60, input_dim=60, activation='relu'))\n",
    "\tmodel.add(Dense(1, activation='sigmoid'))\n",
    "\t# Compile model\n",
    "\tmodel.compile(loss='binary_crossentropy', optimizer='adam', metrics=['accuracy'])\n",
    "\treturn model"
   ]
  },
  {
   "cell_type": "code",
   "execution_count": 43,
   "id": "1f9bc89c",
   "metadata": {},
   "outputs": [
    {
     "name": "stdout",
     "output_type": "stream",
     "text": [
      "Baseline: 82.24% (6.37%)\n"
     ]
    }
   ],
   "source": [
    "# evaluate model with standardized dataset\n",
    "estimator = KerasClassifier(build_fn=create_baseline, epochs=100, batch_size=5, verbose=0)\n",
    "kfold = StratifiedKFold(n_splits=10, shuffle=True)\n",
    "results = cross_val_score(estimator, X, encoded_Y, cv=kfold)\n",
    "print(\"Baseline: %.2f%% (%.2f%%)\" % (results.mean()*100, results.std()*100))"
   ]
  },
  {
   "cell_type": "code",
   "execution_count": 45,
   "id": "461167b0",
   "metadata": {},
   "outputs": [
    {
     "name": "stdout",
     "output_type": "stream",
     "text": [
      "Standardized: 88.02% (6.51%)\n"
     ]
    }
   ],
   "source": [
    "# Binary Classification with Sonar Dataset: Standardized\n",
    "from pandas import read_csv\n",
    "from keras.models import Sequential\n",
    "from keras.layers import Dense\n",
    "from keras.wrappers.scikit_learn import KerasClassifier\n",
    "from sklearn.model_selection import cross_val_score\n",
    "from sklearn.preprocessing import LabelEncoder\n",
    "from sklearn.model_selection import StratifiedKFold\n",
    "from sklearn.preprocessing import StandardScaler\n",
    "from sklearn.pipeline import Pipeline\n",
    "# load dataset\n",
    "dataframe = read_csv(\"sonar.all-data.csv\", header=None)\n",
    "dataset = dataframe.values\n",
    "# split into input (X) and output (Y) variables\n",
    "X = dataset[:,0:60].astype(float)\n",
    "Y = dataset[:,60]\n",
    "# encode class values as integers\n",
    "encoder = LabelEncoder()\n",
    "encoder.fit(Y)\n",
    "encoded_Y = encoder.transform(Y)\n",
    "# baseline model\n",
    "def create_baseline():\n",
    "\t# create model\n",
    "\tmodel = Sequential()\n",
    "\tmodel.add(Dense(60, input_dim=60, activation='relu'))\n",
    "\tmodel.add(Dense(1, activation='sigmoid'))\n",
    "\t# Compile model\n",
    "\tmodel.compile(loss='binary_crossentropy', optimizer='adam', metrics=['accuracy'])\n",
    "\treturn model\n",
    "# evaluate baseline model with standardized dataset\n",
    "estimators = []\n",
    "estimators.append(('standardize', StandardScaler()))\n",
    "estimators.append(('mlp', KerasClassifier(build_fn=create_baseline, epochs=100, batch_size=5, verbose=0)))\n",
    "pipeline = Pipeline(estimators)\n",
    "kfold = StratifiedKFold(n_splits=10, shuffle=True)\n",
    "results = cross_val_score(pipeline, X, encoded_Y, cv=kfold)\n",
    "print(\"Standardized: %.2f%% (%.2f%%)\" % (results.mean()*100, results.std()*100))\n",
    "\n"
   ]
  },
  {
   "cell_type": "code",
   "execution_count": 48,
   "id": "933cfc53",
   "metadata": {},
   "outputs": [
    {
     "name": "stdout",
     "output_type": "stream",
     "text": [
      "Smaller: 88.02% (5.27%)\n"
     ]
    }
   ],
   "source": [
    "# Binary Classification with Sonar Dataset: Standardized Smaller\n",
    "from pandas import read_csv\n",
    "from keras.models import Sequential\n",
    "from keras.layers import Dense\n",
    "from keras.wrappers.scikit_learn import KerasClassifier\n",
    "from sklearn.model_selection import cross_val_score\n",
    "from sklearn.preprocessing import LabelEncoder\n",
    "from sklearn.model_selection import StratifiedKFold\n",
    "from sklearn.preprocessing import StandardScaler\n",
    "from sklearn.pipeline import Pipeline\n",
    "# load dataset\n",
    "dataframe = read_csv(\"sonar.all-data.csv\", header=None)\n",
    "dataset = dataframe.values\n",
    "# split into input (X) and output (Y) variables\n",
    "X = dataset[:,0:60].astype(float)\n",
    "Y = dataset[:,60]\n",
    "# encode class values as integers\n",
    "encoder = LabelEncoder()\n",
    "encoder.fit(Y)\n",
    "encoded_Y = encoder.transform(Y)\n",
    "# smaller model\n",
    "def create_smaller():\n",
    "\t# create model\n",
    "\tmodel = Sequential()\n",
    "\tmodel.add(Dense(30, input_dim=60, activation='relu'))\n",
    "\tmodel.add(Dense(1, activation='sigmoid'))\n",
    "\t# Compile model\n",
    "\tmodel.compile(loss='binary_crossentropy', optimizer='adam', metrics=['accuracy'])\n",
    "\treturn model\n",
    "estimators = []\n",
    "estimators.append(('standardize', StandardScaler()))\n",
    "estimators.append(('mlp', KerasClassifier(build_fn=create_smaller, epochs=100, batch_size=5, verbose=0)))\n",
    "pipeline = Pipeline(estimators)\n",
    "kfold = StratifiedKFold(n_splits=10, shuffle=True)\n",
    "results = cross_val_score(pipeline, X, encoded_Y, cv=kfold)\n",
    "print(\"Smaller: %.2f%% (%.2f%%)\" % (results.mean()*100, results.std()*100))"
   ]
  },
  {
   "cell_type": "code",
   "execution_count": 46,
   "id": "4d9772f6",
   "metadata": {},
   "outputs": [
    {
     "name": "stdout",
     "output_type": "stream",
     "text": [
      "Larger: 86.00% (9.74%)\n"
     ]
    }
   ],
   "source": [
    "# Binary Classification with Sonar Dataset: Standardized Larger\n",
    "from pandas import read_csv\n",
    "from keras.models import Sequential\n",
    "from keras.layers import Dense\n",
    "from keras.wrappers.scikit_learn import KerasClassifier\n",
    "from sklearn.model_selection import cross_val_score\n",
    "from sklearn.preprocessing import LabelEncoder\n",
    "from sklearn.model_selection import StratifiedKFold\n",
    "from sklearn.preprocessing import StandardScaler\n",
    "from sklearn.pipeline import Pipeline\n",
    "# load dataset\n",
    "dataframe = read_csv(\"sonar.all-data.csv\", header=None)\n",
    "dataset = dataframe.values\n",
    "# split into input (X) and output (Y) variables\n",
    "X = dataset[:,0:60].astype(float)\n",
    "Y = dataset[:,60]\n",
    "# encode class values as integers\n",
    "encoder = LabelEncoder()\n",
    "encoder.fit(Y)\n",
    "encoded_Y = encoder.transform(Y)\n",
    "# larger model\n",
    "def create_larger():\n",
    "\t# create model\n",
    "\tmodel = Sequential()\n",
    "\tmodel.add(Dense(60, input_dim=60, activation='relu'))\n",
    "\tmodel.add(Dense(30, activation='relu'))\n",
    "\tmodel.add(Dense(1, activation='sigmoid'))\n",
    "\t# Compile model\n",
    "\tmodel.compile(loss='binary_crossentropy', optimizer='adam', metrics=['accuracy'])\n",
    "\treturn model\n",
    "estimators = []\n",
    "estimators.append(('standardize', StandardScaler()))\n",
    "estimators.append(('mlp', KerasClassifier(build_fn=create_larger, epochs=100, batch_size=5, verbose=0)))\n",
    "pipeline = Pipeline(estimators)\n",
    "kfold = StratifiedKFold(n_splits=10, shuffle=True)\n",
    "results = cross_val_score(pipeline, X, encoded_Y, cv=kfold)\n",
    "print(\"Larger: %.2f%% (%.2f%%)\" % (results.mean()*100, results.std()*100))\n",
    "\n"
   ]
  },
  {
   "cell_type": "code",
   "execution_count": null,
   "id": "fb2a5123",
   "metadata": {},
   "outputs": [],
   "source": []
  }
 ],
 "metadata": {
  "kernelspec": {
   "display_name": "Python 3",
   "language": "python",
   "name": "python3"
  },
  "language_info": {
   "codemirror_mode": {
    "name": "ipython",
    "version": 3
   },
   "file_extension": ".py",
   "mimetype": "text/x-python",
   "name": "python",
   "nbconvert_exporter": "python",
   "pygments_lexer": "ipython3",
   "version": "3.8.8"
  }
 },
 "nbformat": 4,
 "nbformat_minor": 5
}
